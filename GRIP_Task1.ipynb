{
  "nbformat": 4,
  "nbformat_minor": 0,
  "metadata": {
    "colab": {
      "name": "GRIP Task1.ipynb",
      "provenance": [],
      "collapsed_sections": [],
      "authorship_tag": "ABX9TyPM13pGAHtlMmXd7h0H1+Ry",
      "include_colab_link": true
    },
    "kernelspec": {
      "name": "python3",
      "display_name": "Python 3"
    }
  },
  "cells": [
    {
      "cell_type": "markdown",
      "metadata": {
        "id": "view-in-github",
        "colab_type": "text"
      },
      "source": [
        "<a href=\"https://colab.research.google.com/github/mohdirfan0408/GRIP_Task1/blob/main/GRIP_Task1.ipynb\" target=\"_parent\"><img src=\"https://colab.research.google.com/assets/colab-badge.svg\" alt=\"Open In Colab\"/></a>"
      ]
    },
    {
      "cell_type": "markdown",
      "metadata": {
        "id": "6EPa7M9UMoF5"
      },
      "source": [
        "# THE SPARK FOUNDATION\n",
        "\n",
        "# GRIP: TASK 1\n",
        "# Problem Statement: Predict the percentage of a student based on the no. of study hours using Supervised Machine learning.\n",
        "\n",
        "Executed by Mohd Irfan Mohd Ismail"
      ]
    },
    {
      "cell_type": "code",
      "metadata": {
        "id": "GvrndQMfIMUo"
      },
      "source": [
        "#Importing important libraries used in the code\n",
        "import pandas as pd\n",
        "import numpy as np\n",
        "import matplotlib.pyplot as plt\n",
        "from sklearn.model_selection import train_test_split\n",
        "from sklearn.linear_model import LinearRegression\n",
        "from sklearn.ensemble import RandomForestRegressor\n",
        "from sklearn.metrics import mean_absolute_error,mean_squared_error\n",
        "#matplotlib inline"
      ],
      "execution_count": null,
      "outputs": []
    },
    {
      "cell_type": "markdown",
      "metadata": {
        "id": "VCwrx0RCqjO2"
      },
      "source": [
        "# Importing Data and Displaying it"
      ]
    },
    {
      "cell_type": "code",
      "metadata": {
        "id": "nNIbZU1FvDJa",
        "colab": {
          "base_uri": "https://localhost:8080/",
          "height": 221
        },
        "outputId": "874bf316-8b9a-436b-cdc6-f1bff02c871a"
      },
      "source": [
        "#importing data from the provided link\n",
        "url = \"http://bit.ly/w-data\"\n",
        "df = pd.read_csv(url)\n",
        "print('----------Data Imported Successfully----------')\n",
        "\n",
        "#printing top rows of the dataframe\n",
        "df.head()"
      ],
      "execution_count": null,
      "outputs": [
        {
          "output_type": "stream",
          "text": [
            "----------Data Imported Successfully----------\n"
          ],
          "name": "stdout"
        },
        {
          "output_type": "execute_result",
          "data": {
            "text/html": [
              "<div>\n",
              "<style scoped>\n",
              "    .dataframe tbody tr th:only-of-type {\n",
              "        vertical-align: middle;\n",
              "    }\n",
              "\n",
              "    .dataframe tbody tr th {\n",
              "        vertical-align: top;\n",
              "    }\n",
              "\n",
              "    .dataframe thead th {\n",
              "        text-align: right;\n",
              "    }\n",
              "</style>\n",
              "<table border=\"1\" class=\"dataframe\">\n",
              "  <thead>\n",
              "    <tr style=\"text-align: right;\">\n",
              "      <th></th>\n",
              "      <th>Hours</th>\n",
              "      <th>Scores</th>\n",
              "    </tr>\n",
              "  </thead>\n",
              "  <tbody>\n",
              "    <tr>\n",
              "      <th>0</th>\n",
              "      <td>2.5</td>\n",
              "      <td>21</td>\n",
              "    </tr>\n",
              "    <tr>\n",
              "      <th>1</th>\n",
              "      <td>5.1</td>\n",
              "      <td>47</td>\n",
              "    </tr>\n",
              "    <tr>\n",
              "      <th>2</th>\n",
              "      <td>3.2</td>\n",
              "      <td>27</td>\n",
              "    </tr>\n",
              "    <tr>\n",
              "      <th>3</th>\n",
              "      <td>8.5</td>\n",
              "      <td>75</td>\n",
              "    </tr>\n",
              "    <tr>\n",
              "      <th>4</th>\n",
              "      <td>3.5</td>\n",
              "      <td>30</td>\n",
              "    </tr>\n",
              "  </tbody>\n",
              "</table>\n",
              "</div>"
            ],
            "text/plain": [
              "   Hours  Scores\n",
              "0    2.5      21\n",
              "1    5.1      47\n",
              "2    3.2      27\n",
              "3    8.5      75\n",
              "4    3.5      30"
            ]
          },
          "metadata": {
            "tags": []
          },
          "execution_count": 98
        }
      ]
    },
    {
      "cell_type": "markdown",
      "metadata": {
        "id": "W6YkFhiSrc5Z"
      },
      "source": [
        "# checking for any missing values"
      ]
    },
    {
      "cell_type": "code",
      "metadata": {
        "id": "Fwx4OjvhvvRd",
        "colab": {
          "base_uri": "https://localhost:8080/"
        },
        "outputId": "e092e44f-fc79-4a15-e8d4-c82073e81dfc"
      },
      "source": [
        "df.isna().sum()"
      ],
      "execution_count": null,
      "outputs": [
        {
          "output_type": "execute_result",
          "data": {
            "text/plain": [
              "Hours     0\n",
              "Scores    0\n",
              "dtype: int64"
            ]
          },
          "metadata": {
            "tags": []
          },
          "execution_count": 99
        }
      ]
    },
    {
      "cell_type": "markdown",
      "metadata": {
        "id": "auVUOSFzrlEw"
      },
      "source": [
        "#Visualizing the given DataFrame"
      ]
    },
    {
      "cell_type": "code",
      "metadata": {
        "id": "A1b6FoWJxB3Q",
        "colab": {
          "base_uri": "https://localhost:8080/",
          "height": 295
        },
        "outputId": "bd983444-dd6c-47ae-ac34-55a8bcf4c1a3"
      },
      "source": [
        "df.plot(x=\"Hours\" , y=\"Scores\",style=\"*\")\n",
        "plt.title(\"Hours vs Percentage\")\n",
        "plt.xlabel(\"Hours studied by student\")\n",
        "plt.ylabel(\"percentage Scored\")\n",
        "plt.show()"
      ],
      "execution_count": null,
      "outputs": [
        {
          "output_type": "display_data",
          "data": {
            "image/png": "[encoded data removed]",
            "text/plain": [
              "<Figure size 432x288 with 1 Axes>"
            ]
          },
          "metadata": {
            "tags": [],
            "needs_background": "light"
          }
        }
      ]
    },
    {
      "cell_type": "markdown",
      "metadata": {
        "id": "omIIlzLervWQ"
      },
      "source": [
        "#Distributing the dataset in 'X' & 'Y' "
      ]
    },
    {
      "cell_type": "code",
      "metadata": {
        "id": "-7IK9FZNx-nd",
        "colab": {
          "base_uri": "https://localhost:8080/"
        },
        "outputId": "e34e2288-3b95-49dd-cd11-ca26cccabfd0"
      },
      "source": [
        "X= df.iloc[:,:-1].values\n",
        "Y= df.iloc[:,1].values\n",
        "\n",
        "print('X_arr shape:',X.shape)\n",
        "print('Y_arr shape:',Y.shape)"
      ],
      "execution_count": null,
      "outputs": [
        {
          "output_type": "stream",
          "text": [
            "X_arr shape: (25, 1)\n",
            "Y_arr shape: (25,)\n"
          ],
          "name": "stdout"
        }
      ]
    },
    {
      "cell_type": "markdown",
      "metadata": {
        "id": "rGPDdRZTsBX3"
      },
      "source": [
        "#Dividing the data set into training and testing"
      ]
    },
    {
      "cell_type": "code",
      "metadata": {
        "id": "TkpkLXedz6gj",
        "colab": {
          "base_uri": "https://localhost:8080/"
        },
        "outputId": "471e7402-a27b-4d5d-a9e7-1e2190977611"
      },
      "source": [
        "X_train, X_test, y_train, y_test = train_test_split(X, Y, test_size=0.2, random_state=0)\n",
        "\n",
        "print('X_train shape:',X_train.shape)\n",
        "print('X_test shape:',X_test.shape)\n",
        "print('y_train shape:',y_train.shape)\n",
        "print('y_test shape:',X_test.shape)"
      ],
      "execution_count": null,
      "outputs": [
        {
          "output_type": "stream",
          "text": [
            "X_train shape: (20, 1)\n",
            "X_test shape: (5, 1)\n",
            "y_train shape: (20,)\n",
            "y_test shape: (5, 1)\n"
          ],
          "name": "stdout"
        }
      ]
    },
    {
      "cell_type": "markdown",
      "metadata": {
        "id": "z3aEIpwesI_f"
      },
      "source": [
        "#Training our model using model 1: Linear Regression\n",
        "\n"
      ]
    },
    {
      "cell_type": "code",
      "metadata": {
        "id": "G_oUOa2j-7ym",
        "colab": {
          "base_uri": "https://localhost:8080/"
        },
        "outputId": "5f6d1a83-2c39-4c34-8dcd-4eb99d7e5e1d"
      },
      "source": [
        "model1= LinearRegression()\n",
        "model1.fit(X_train,y_train)\n",
        "print('training completed')\n"
      ],
      "execution_count": null,
      "outputs": [
        {
          "output_type": "stream",
          "text": [
            "training completed\n"
          ],
          "name": "stdout"
        }
      ]
    },
    {
      "cell_type": "markdown",
      "metadata": {
        "id": "SIbWcaAZsSdJ"
      },
      "source": [
        "#Plotting the trained model with our dataset"
      ]
    },
    {
      "cell_type": "code",
      "metadata": {
        "id": "nqWTCMag_kUj",
        "colab": {
          "base_uri": "https://localhost:8080/",
          "height": 295
        },
        "outputId": "491c5095-68ac-4bff-d047-1ac2e1a6ce62"
      },
      "source": [
        "line = model1.coef_*X + model1.intercept_\n",
        "\n",
        "plt.scatter(X,Y,color='red',marker='*')\n",
        "plt.plot(X, line, color='blue')\n",
        "plt.xlabel(\"Hours\")\n",
        "plt.ylabel(\"Score\")\n",
        "plt.title(\"Linear regression plot\")\n",
        "plt.show()\n",
        "\n"
      ],
      "execution_count": null,
      "outputs": [
        {
          "output_type": "display_data",
          "data": {
            "image/png": "[encoded data removed]",
            "text/plain": [
              "<Figure size 432x288 with 1 Axes>"
            ]
          },
          "metadata": {
            "tags": [],
            "needs_background": "light"
          }
        }
      ]
    },
    {
      "cell_type": "markdown",
      "metadata": {
        "id": "6E2FAoYbsZkI"
      },
      "source": [
        "#Comparing the actual and predicted values of y"
      ]
    },
    {
      "cell_type": "code",
      "metadata": {
        "id": "iXQtJXshC2Y9",
        "colab": {
          "base_uri": "https://localhost:8080/",
          "height": 204
        },
        "outputId": "e2b7570c-f121-4ef5-8187-6cf00734b204"
      },
      "source": [
        "y_pred1 = model1.predict(X_test)\n",
        "set1=pd.DataFrame({'Actual':y_test,'Predicted':y_pred1})\n",
        "set1"
      ],
      "execution_count": null,
      "outputs": [
        {
          "output_type": "execute_result",
          "data": {
            "text/html": [
              "<div>\n",
              "<style scoped>\n",
              "    .dataframe tbody tr th:only-of-type {\n",
              "        vertical-align: middle;\n",
              "    }\n",
              "\n",
              "    .dataframe tbody tr th {\n",
              "        vertical-align: top;\n",
              "    }\n",
              "\n",
              "    .dataframe thead th {\n",
              "        text-align: right;\n",
              "    }\n",
              "</style>\n",
              "<table border=\"1\" class=\"dataframe\">\n",
              "  <thead>\n",
              "    <tr style=\"text-align: right;\">\n",
              "      <th></th>\n",
              "      <th>Actual</th>\n",
              "      <th>Predicted</th>\n",
              "    </tr>\n",
              "  </thead>\n",
              "  <tbody>\n",
              "    <tr>\n",
              "      <th>0</th>\n",
              "      <td>20</td>\n",
              "      <td>16.884145</td>\n",
              "    </tr>\n",
              "    <tr>\n",
              "      <th>1</th>\n",
              "      <td>27</td>\n",
              "      <td>33.732261</td>\n",
              "    </tr>\n",
              "    <tr>\n",
              "      <th>2</th>\n",
              "      <td>69</td>\n",
              "      <td>75.357018</td>\n",
              "    </tr>\n",
              "    <tr>\n",
              "      <th>3</th>\n",
              "      <td>30</td>\n",
              "      <td>26.794801</td>\n",
              "    </tr>\n",
              "    <tr>\n",
              "      <th>4</th>\n",
              "      <td>62</td>\n",
              "      <td>60.491033</td>\n",
              "    </tr>\n",
              "  </tbody>\n",
              "</table>\n",
              "</div>"
            ],
            "text/plain": [
              "   Actual  Predicted\n",
              "0      20  16.884145\n",
              "1      27  33.732261\n",
              "2      69  75.357018\n",
              "3      30  26.794801\n",
              "4      62  60.491033"
            ]
          },
          "metadata": {
            "tags": []
          },
          "execution_count": 105
        }
      ]
    },
    {
      "cell_type": "markdown",
      "metadata": {
        "id": "diV565Jgsur4"
      },
      "source": [
        "#checking performance of model 1 : Linear Regression"
      ]
    },
    {
      "cell_type": "code",
      "metadata": {
        "id": "M5B8lVeCEJo_",
        "colab": {
          "base_uri": "https://localhost:8080/"
        },
        "outputId": "0c6c8ef9-a7f4-4fbe-e4be-0d17273980c8"
      },
      "source": [
        "print('training model accuracy:', (100*model1.score(X_train,y_train)).round(2),'%')\n",
        "print('prediction model accuracy:', (100*(model1.score(X_test,y_test))).round(2),'%')\n",
        "mean1=mean_absolute_error(y_test,y_pred1)\n",
        "root1=np.sqrt(mean_squared_error(y_test,y_pred1))\n",
        "print('Mean Absolute Error in model 1:',mean1.round(3))\n",
        "print('Root Mean Squared Error in model 1:',root1.round(3))\n"
      ],
      "execution_count": null,
      "outputs": [
        {
          "output_type": "stream",
          "text": [
            "training model accuracy: 95.16 %\n",
            "prediction model accuracy: 94.55 %\n",
            "Mean Absolute Error in model 1: 4.184\n",
            "Root Mean Squared Error in model 1: 4.647\n"
          ],
          "name": "stdout"
        }
      ]
    },
    {
      "cell_type": "markdown",
      "metadata": {
        "id": "S3wI1pgAtBZw"
      },
      "source": [
        "#Training our model using model 2 : Random Forest Regressor"
      ]
    },
    {
      "cell_type": "code",
      "metadata": {
        "id": "zbnUsw0BJQXJ",
        "colab": {
          "base_uri": "https://localhost:8080/"
        },
        "outputId": "6c0997e7-f266-4050-ea5b-566ba1570a9b"
      },
      "source": [
        "model2=RandomForestRegressor(n_estimators=10, random_state=0)\n",
        "model2.fit(X_train,y_train)\n",
        "print('traning completed')\n"
      ],
      "execution_count": null,
      "outputs": [
        {
          "output_type": "stream",
          "text": [
            "traning completed\n"
          ],
          "name": "stdout"
        }
      ]
    },
    {
      "cell_type": "markdown",
      "metadata": {
        "id": "5Fs7veS9tMAY"
      },
      "source": [
        "#Comparing the actual and predicted values of y"
      ]
    },
    {
      "cell_type": "code",
      "metadata": {
        "id": "BsJaP8MWJp2a",
        "colab": {
          "base_uri": "https://localhost:8080/",
          "height": 204
        },
        "outputId": "28729de8-e705-4121-ac8b-68058338f302"
      },
      "source": [
        "y_pred2=model2.predict(X_test)\n",
        "hours=X_test.flatten()\n",
        "set2=pd.DataFrame({'Hours':hours,'Actual':y_test,'Prediction':y_pred2})\n",
        "set2"
      ],
      "execution_count": null,
      "outputs": [
        {
          "output_type": "execute_result",
          "data": {
            "text/html": [
              "<div>\n",
              "<style scoped>\n",
              "    .dataframe tbody tr th:only-of-type {\n",
              "        vertical-align: middle;\n",
              "    }\n",
              "\n",
              "    .dataframe tbody tr th {\n",
              "        vertical-align: top;\n",
              "    }\n",
              "\n",
              "    .dataframe thead th {\n",
              "        text-align: right;\n",
              "    }\n",
              "</style>\n",
              "<table border=\"1\" class=\"dataframe\">\n",
              "  <thead>\n",
              "    <tr style=\"text-align: right;\">\n",
              "      <th></th>\n",
              "      <th>Hours</th>\n",
              "      <th>Actual</th>\n",
              "      <th>Prediction</th>\n",
              "    </tr>\n",
              "  </thead>\n",
              "  <tbody>\n",
              "    <tr>\n",
              "      <th>0</th>\n",
              "      <td>1.5</td>\n",
              "      <td>20</td>\n",
              "      <td>19.7</td>\n",
              "    </tr>\n",
              "    <tr>\n",
              "      <th>1</th>\n",
              "      <td>3.2</td>\n",
              "      <td>27</td>\n",
              "      <td>38.4</td>\n",
              "    </tr>\n",
              "    <tr>\n",
              "      <th>2</th>\n",
              "      <td>7.4</td>\n",
              "      <td>69</td>\n",
              "      <td>84.3</td>\n",
              "    </tr>\n",
              "    <tr>\n",
              "      <th>3</th>\n",
              "      <td>2.5</td>\n",
              "      <td>30</td>\n",
              "      <td>23.0</td>\n",
              "    </tr>\n",
              "    <tr>\n",
              "      <th>4</th>\n",
              "      <td>5.9</td>\n",
              "      <td>62</td>\n",
              "      <td>66.5</td>\n",
              "    </tr>\n",
              "  </tbody>\n",
              "</table>\n",
              "</div>"
            ],
            "text/plain": [
              "   Hours  Actual  Prediction\n",
              "0    1.5      20        19.7\n",
              "1    3.2      27        38.4\n",
              "2    7.4      69        84.3\n",
              "3    2.5      30        23.0\n",
              "4    5.9      62        66.5"
            ]
          },
          "metadata": {
            "tags": []
          },
          "execution_count": 108
        }
      ]
    },
    {
      "cell_type": "markdown",
      "metadata": {
        "id": "YvV7akqot8wX"
      },
      "source": [
        "#checking performance of model 2 : Random Forest Regressor"
      ]
    },
    {
      "cell_type": "code",
      "metadata": {
        "id": "jjWfg5JLMUon",
        "colab": {
          "base_uri": "https://localhost:8080/"
        },
        "outputId": "8656f473-c72d-4a17-8bf6-5ae320945cf5"
      },
      "source": [
        "print('training model accuracy:', (100*model2.score(X_train,y_train)).round(2),'%')\n",
        "print('prediction model accuracy:', (100*(model2.score(X_test,y_test))).round(2),'%')\n",
        "mean2=mean_absolute_error(y_test,y_pred2)\n",
        "root2=np.sqrt(mean_squared_error(y_test,y_pred1))\n",
        "print('Mean Absolute Error in model 2:',mean2.round(3))\n",
        "print('Root Mean Squared Error in model 2:',root2.round(3))"
      ],
      "execution_count": null,
      "outputs": [
        {
          "output_type": "stream",
          "text": [
            "training model accuracy: 98.66 %\n",
            "prediction model accuracy: 78.12 %\n",
            "Mean Absolute Error in model 2: 7.7\n",
            "Root Mean Squared Error in model 2: 4.647\n"
          ],
          "name": "stdout"
        }
      ]
    },
    {
      "cell_type": "markdown",
      "metadata": {
        "id": "dRrqPH8tyefJ"
      },
      "source": [
        ""
      ]
    },
    {
      "cell_type": "code",
      "metadata": {
        "id": "nyZHiB89yfF8",
        "colab": {
          "base_uri": "https://localhost:8080/",
          "height": 605
        },
        "outputId": "116f29d9-498f-4b1e-f3d8-6ff1268f851c"
      },
      "source": [
        "N=np.arange(5)\n",
        "plt.bar(N+0.4, y_test,width=0.4,label='Actual',color='red')\n",
        "plt.bar(N, y_pred1,width=0.4,label='Linear Regression',color='blue')\n",
        "plt.title('Predicted vs Actual Scores using linear regression model \\nMean Absolute Error: {}\\nRoot Mean Squared Error: {}'.format(mean1.round(3),root1.round(3)))\n",
        "plt.ylabel('Scores')\n",
        "plt.show()\n",
        "\n",
        "plt.bar(N+0.4, y_test,width=0.4,label='Actual',color='red')\n",
        "plt.bar(N, y_pred2,width=0.4,label='Linear Regression',color='blue')\n",
        "plt.title('Predicted vs Actual Scores using Random Forest Regressor \\nMean Absolute Error: {}\\nRoot Mean Squared Error: {}'.format(mean2.round(3),root2.round(3)))\n",
        "plt.ylabel('Scores')\n",
        "plt.show()\n",
        "\n"
      ],
      "execution_count": null,
      "outputs": [
        {
          "output_type": "display_data",
          "data": {
            "image/png": "[encoded data removed]",
            "text/plain": [
              "<Figure size 432x288 with 1 Axes>"
            ]
          },
          "metadata": {
            "tags": [],
            "needs_background": "light"
          }
        },
        {
          "output_type": "display_data",
          "data": {
            "image/png": "[encoded data removed]",
            "text/plain": [
              "<Figure size 432x288 with 1 Axes>"
            ]
          },
          "metadata": {
            "tags": [],
            "needs_background": "light"
          }
        }
      ]
    },
    {
      "cell_type": "markdown",
      "metadata": {
        "id": "UVEmT28o7yKv"
      },
      "source": [
        "#Predicted score of student if he studies for 9.25 hours."
      ]
    },
    {
      "cell_type": "code",
      "metadata": {
        "id": "oFJ0fsPI7yn8",
        "colab": {
          "base_uri": "https://localhost:8080/"
        },
        "outputId": "479726bc-756c-4ac6-e549-e8904cecfd3d"
      },
      "source": [
        "#predicting using linear regression model\n",
        "hours=9.25\n",
        "score_pred=model1.predict([[hours]])\n",
        "print('Number of hours student studied: {}'.format(hours))\n",
        "print('predicted score: {}'.format(score_pred[0]))\n"
      ],
      "execution_count": null,
      "outputs": [
        {
          "output_type": "stream",
          "text": [
            "Number of hours student studied: 9.25\n",
            "predicted score: 93.69173248737539\n"
          ],
          "name": "stdout"
        }
      ]
    }
  ]
}